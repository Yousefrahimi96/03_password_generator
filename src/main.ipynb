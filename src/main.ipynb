{
 "cells": [
  {
   "cell_type": "code",
   "execution_count": 3,
   "metadata": {},
   "outputs": [
    {
     "data": {
      "text/plain": [
       "'POwygq9nNW'"
      ]
     },
     "execution_count": 3,
     "metadata": {},
     "output_type": "execute_result"
    }
   ],
   "source": [
    "import string\n",
    "import random\n",
    "import nltk\n",
    "\n",
    "characters = string.ascii_letters + string.digits  # حروف و اعداد\n",
    "password = ''.join(random.choice(characters) for _ in range(10))  # پسورد 10 کاراکتری\n",
    "password"
   ]
  },
  {
   "cell_type": "code",
   "execution_count": 6,
   "metadata": {},
   "outputs": [
    {
     "name": "stderr",
     "output_type": "stream",
     "text": [
      "[nltk_data] Downloading package words to /home/yousef/nltk_data...\n",
      "[nltk_data]   Package words is already up-to-date!\n"
     ]
    },
    {
     "data": {
      "text/plain": [
       "'Hydrocyon'"
      ]
     },
     "execution_count": 6,
     "metadata": {},
     "output_type": "execute_result"
    }
   ],
   "source": [
    "from nltk.corpus import words\n",
    "import random\n",
    "\n",
    "nltk.download('words')  # دانلود لیست کلمات\n",
    "word_list = words.words()  # دسترسی به لیست کلمات\n",
    "random_word = random.choice(word_list)  # انتخاب یه کلمه تصادفی\n",
    "random_word"
   ]
  },
  {
   "cell_type": "code",
   "execution_count": 7,
   "metadata": {},
   "outputs": [
    {
     "ename": "TypeError",
     "evalue": "object of type 'WordListCorpusReader' has no len()",
     "output_type": "error",
     "traceback": [
      "\u001b[0;31m---------------------------------------------------------------------------\u001b[0m",
      "\u001b[0;31mTypeError\u001b[0m                                 Traceback (most recent call last)",
      "Cell \u001b[0;32mIn[7], line 2\u001b[0m\n\u001b[1;32m      1\u001b[0m \u001b[38;5;28;01mfrom\u001b[39;00m\u001b[38;5;250m \u001b[39m\u001b[38;5;21;01mnltk\u001b[39;00m\u001b[38;5;21;01m.\u001b[39;00m\u001b[38;5;21;01mcorpus\u001b[39;00m\u001b[38;5;250m \u001b[39m\u001b[38;5;28;01mimport\u001b[39;00m words\n\u001b[0;32m----> 2\u001b[0m word \u001b[38;5;241m=\u001b[39m \u001b[43mrandom\u001b[49m\u001b[38;5;241;43m.\u001b[39;49m\u001b[43mchoice\u001b[49m\u001b[43m(\u001b[49m\u001b[43mwords\u001b[49m\u001b[43m)\u001b[49m  \u001b[38;5;66;03m# کلمه تصادفی از NLTK\u001b[39;00m\n\u001b[1;32m      3\u001b[0m number \u001b[38;5;241m=\u001b[39m \u001b[38;5;28mstr\u001b[39m(random\u001b[38;5;241m.\u001b[39mrandint(\u001b[38;5;241m0\u001b[39m, \u001b[38;5;241m999\u001b[39m))  \u001b[38;5;66;03m# عدد تصادفی\u001b[39;00m\n\u001b[1;32m      4\u001b[0m symbol \u001b[38;5;241m=\u001b[39m random\u001b[38;5;241m.\u001b[39mchoice(string\u001b[38;5;241m.\u001b[39mpunctuation)  \u001b[38;5;66;03m# نماد تصادفی\u001b[39;00m\n",
      "File \u001b[0;32m~/miniconda3/envs/yousef/lib/python3.13/random.py:350\u001b[0m, in \u001b[0;36mRandom.choice\u001b[0;34m(self, seq)\u001b[0m\n\u001b[1;32m    346\u001b[0m \u001b[38;5;250m\u001b[39m\u001b[38;5;124;03m\"\"\"Choose a random element from a non-empty sequence.\"\"\"\u001b[39;00m\n\u001b[1;32m    348\u001b[0m \u001b[38;5;66;03m# As an accommodation for NumPy, we don't use \"if not seq\"\u001b[39;00m\n\u001b[1;32m    349\u001b[0m \u001b[38;5;66;03m# because bool(numpy.array()) raises a ValueError.\u001b[39;00m\n\u001b[0;32m--> 350\u001b[0m \u001b[38;5;28;01mif\u001b[39;00m \u001b[38;5;129;01mnot\u001b[39;00m \u001b[38;5;28;43mlen\u001b[39;49m\u001b[43m(\u001b[49m\u001b[43mseq\u001b[49m\u001b[43m)\u001b[49m:\n\u001b[1;32m    351\u001b[0m     \u001b[38;5;28;01mraise\u001b[39;00m \u001b[38;5;167;01mIndexError\u001b[39;00m(\u001b[38;5;124m'\u001b[39m\u001b[38;5;124mCannot choose from an empty sequence\u001b[39m\u001b[38;5;124m'\u001b[39m)\n\u001b[1;32m    352\u001b[0m \u001b[38;5;28;01mreturn\u001b[39;00m seq[\u001b[38;5;28mself\u001b[39m\u001b[38;5;241m.\u001b[39m_randbelow(\u001b[38;5;28mlen\u001b[39m(seq))]\n",
      "\u001b[0;31mTypeError\u001b[0m: object of type 'WordListCorpusReader' has no len()"
     ]
    }
   ],
   "source": [
    "from nltk.corpus import words\n",
    "word = random.choice(words)  # کلمه تصادفی از NLTK\n",
    "number = str(random.randint(0, 999))  # عدد تصادفی\n",
    "symbol = random.choice(string.punctuation)  # نماد تصادفی\n",
    "password = word + number + symbol  # ترکیب همه"
   ]
  },
  {
   "cell_type": "code",
   "execution_count": null,
   "metadata": {},
   "outputs": [],
   "source": [
    "from abc import ABC, abstractmethod\n",
    "\n",
    "import random\n",
    "from nltk.corpus import words\n",
    "\n",
    "nltk.download('words')  # دانلود لیست کلمات\n",
    "word_list = words.words()  # دسترسی به لیست کلمات\n",
    "\n",
    "\n",
    "class Parent(ABC):\n",
    "    def __init__(self, size):\n",
    "        self.size = size\n",
    "        \n",
    "    @abstractmethod\n",
    "    def generator(self):\n",
    "        pass\n",
    "    \n",
    "class RandomPassword(Parent):\n",
    "    def __init__(self, size = 10):\n",
    "        super().__init__(size)\n",
    "        \n",
    "    def generator(self):\n",
    "        characters = string.ascii_letters + string.digits  # حروف و اعداد\n",
    "        password = ''.join(random.choice(characters) for _ in range(self.size))  # پسورد 10 کاراکتری\n",
    "        return password\n",
    "    \n",
    "class Memorable(Parent):\n",
    "    def __init__(self, size = 12):\n",
    "        super().__init__(size)\n",
    "        \n",
    "    def generator(self):\n",
    "        number = str(random.randint(0, 10**self.size))  # عدد تصادفی\n",
    "        return number\n",
    "\n",
    "    \n",
    "class Pin(Parent):\n",
    "    def __init__(self, size=10):\n",
    "        super().__init__(size)\n",
    "        \n",
    "    def pinGenerator():\n",
    "    i = 1\n",
    "    pass_str = ''\n",
    "    while i < 5:\n",
    "        random_word = random.choice(word_list)  # انتخاب یه کلمه تصادفی\n",
    "        pass_str = pass_str + '-' + random_word\n",
    "        i = i +1\n",
    "    return pass_str\n",
    "    \n",
    "    "
   ]
  },
  {
   "cell_type": "code",
   "execution_count": null,
   "metadata": {},
   "outputs": [],
   "source": []
  }
 ],
 "metadata": {
  "kernelspec": {
   "display_name": "yousef",
   "language": "python",
   "name": "python3"
  },
  "language_info": {
   "codemirror_mode": {
    "name": "ipython",
    "version": 3
   },
   "file_extension": ".py",
   "mimetype": "text/x-python",
   "name": "python",
   "nbconvert_exporter": "python",
   "pygments_lexer": "ipython3",
   "version": "3.13.1"
  }
 },
 "nbformat": 4,
 "nbformat_minor": 2
}

{
 "cells": [
  {
   "cell_type": "code",
   "execution_count": null,
   "metadata": {},
   "outputs": [],
   "source": [
    "import streamlit as st\n",
    "\n",
    "# Store the initial value of widgets in session state\n",
    "if \"visibility\" not in st.session_state:\n",
    "    st.session_state.visibility = \"visible\"\n",
    "    st.session_state.disabled = False\n",
    "\n",
    "col1, col2 = st.columns(2)\n",
    "\n",
    "with col1:\n",
    "    st.checkbox(\"Disable selectbox widget\", key=\"disabled\")\n",
    "    st.radio(\n",
    "        \"Set selectbox label visibility 👉\",\n",
    "        key=\"visibility\",\n",
    "        options=[\"visible\", \"hidden\", \"collapsed\"],\n",
    "    )\n",
    "\n",
    "with col2:\n",
    "    option = st.selectbox(\n",
    "        \"How would you like to be contacted?\",\n",
    "        (\"Email\", \"Home phone\", \"Mobile phone\"),\n",
    "        label_visibility=st.session_state.visibility,\n",
    "        disabled=st.session_state.disabled,\n",
    "    )\n"
   ]
  },
  {
   "cell_type": "code",
   "execution_count": null,
   "metadata": {},
   "outputs": [],
   "source": []
  }
 ],
 "metadata": {
  "kernelspec": {
   "display_name": "yousef",
   "language": "python",
   "name": "python3"
  },
  "language_info": {
   "name": "python",
   "version": "3.13.0"
  }
 },
 "nbformat": 4,
 "nbformat_minor": 2
}
